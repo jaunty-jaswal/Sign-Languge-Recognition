{
 "cells": [
  {
   "cell_type": "code",
   "execution_count": 1,
   "id": "1738bb56",
   "metadata": {},
   "outputs": [],
   "source": [
    "import numpy as np\n",
    "import os\n",
    "import shutil\n",
    "import cv2"
   ]
  },
  {
   "attachments": {},
   "cell_type": "markdown",
   "id": "6ca1bbb4",
   "metadata": {},
   "source": [
    "# Load Dataset and preprocess each image before model training:"
   ]
  },
  {
   "cell_type": "code",
   "execution_count": 2,
   "id": "d8852194",
   "metadata": {},
   "outputs": [],
   "source": [
    "# RESIZE each image to a image of 100*100\n",
    "def readImage(imageName):\n",
    "    img =cv2.imread(imageName)\n",
    "    img = cv2.resize(img,(100,100))\n",
    "    cv2.imwrite(imageName,img)\n",
    "for j in range (65,91):\n",
    "    for i in range (1,3001):\n",
    "        readImage(\"dataset/\"+chr(j)+\"/\" + chr(j) +str(i) + '.jpg')\n"
   ]
  },
  {
   "cell_type": "code",
   "execution_count": 3,
   "id": "2243d6ee",
   "metadata": {},
   "outputs": [],
   "source": [
    "# Split the dataset into training and test set.\n",
    "# The dataset for each gesture is split into training and test set where test set consists of 25% of the dataset\n",
    "rootdir= 'D:\\Hand Gesture Recognition\\dataset'\n",
    "os.makedirs(rootdir+'/Training_Set')\n",
    "os.makedirs(rootdir+'/Test_Set')\n",
    "for i in range(65,91):\n",
    "    os.makedirs(rootdir +'/Training_Set/' + chr(i))\n",
    "    os.makedirs(rootdir +'/Test_Set/' + chr(i))\n",
    "    source = rootdir + '/' + chr(i)\n",
    "    allFileNames = os.listdir(source)\n",
    "    np.random.shuffle(allFileNames)\n",
    "    test_ratio = 0.25 #size of test set\n",
    "    train_FileNames, test_FileNames = np.split(np.array(allFileNames),[int(len(allFileNames)* (1 - test_ratio))])\n",
    "    train_FileNames = [source+'/'+ name for name in train_FileNames.tolist()]\n",
    "    test_FileNames = [source+'/' + name for name in test_FileNames.tolist()]\n",
    "    for name in train_FileNames:\n",
    "      shutil.copy(name, rootdir +'/Training_Set/' + chr(i))\n",
    "    for name in test_FileNames:\n",
    "      shutil.copy(name, rootdir +'/Test_Set/' +chr(i))"
   ]
  },
  {
   "cell_type": "code",
   "execution_count": 4,
   "id": "3f1d27bb",
   "metadata": {},
   "outputs": [],
   "source": [
    "# Preprocess each image to a greyscale image and load it for model training\n",
    "#The below function reads the images within each folder of training set and test set.\n",
    "#It also greyscales each image before storing it for better model training\n",
    "labels = ['A', 'B', 'C', 'D', 'E', 'F', 'G', 'H', 'I', 'J','K','L','M','N','O','P','Q','R','S','T','U','V','W','X','Y','Z']\n",
    "def load_images_from_folder(folder,ch):\n",
    "    images = []\n",
    "    for filename in os.listdir(folder+ch):\n",
    "        img = cv2.imread(os.path.join(folder+ch,filename))\n",
    "        if img is not None:\n",
    "            gray_image = cv2.cvtColor(img, cv2.COLOR_BGR2GRAY)\n",
    "            class_num=labels.index(ch)\n",
    "            #image_norm = cv2.normalize(gray_image, None, alpha=0,beta=1, norm_type=cv2.NORM_MINMAX)\n",
    "            images.append([gray_image,class_num])\n",
    "            #cv2.imwrite(folder+'GrayImages/'+ch+'/'+filename,gray_image)\n",
    "    return images\n",
    "trainImages = []\n",
    "#os.makedirs('C:/Users/OMEN/Desktop/dataset/Training_Set/GrayImages')\n",
    "#os.makedirs('C:/Users/OMEN/Desktop/dataset/Test_Set/GrayImages')\n",
    "for i in range(65,91):\n",
    "    #os.makedirs('C:/Users/OMEN/Desktop/dataset/Training_Set/GrayImages/'+chr(i))\n",
    "    trainImages=trainImages+(load_images_from_folder('D:\\Hand Gesture Recognition\\dataset',chr(i)))\n",
    "testImages=[]\n",
    "for i in range(65,91):\n",
    "    #os.makedirs('C:/Users/OMEN/Desktop/dataset/Test_Set/GrayImages/'+chr(i))\n",
    "    testImages=testImages+(load_images_from_folder('D:\\Hand Gesture Recognition\\dataset',chr(i)))\n"
   ]
  },
  {
   "cell_type": "code",
   "execution_count": 5,
   "id": "e1ec33ad",
   "metadata": {},
   "outputs": [],
   "source": [
    "x_train = []\n",
    "y_train = []\n",
    "x_test = []\n",
    "y_test = []\n",
    "\n",
    "for feature,label in trainImages:\n",
    "  x_train.append(feature)\n",
    "  y_train.append(label)\n",
    "\n",
    "for feature, label in testImages:\n",
    "  x_test.append(feature)\n",
    "  y_test.append(label)"
   ]
  },
  {
   "cell_type": "code",
   "execution_count": 6,
   "id": "aaf831b9",
   "metadata": {},
   "outputs": [],
   "source": [
    "x_test=np.array(x_test)\n",
    "x_train=np.array(x_train)\n",
    "x_train=x_train.astype('float32')\n",
    "x_test=x_test.astype('float32')"
   ]
  },
  {
   "attachments": {},
   "cell_type": "markdown",
   "id": "6d0cc8f5",
   "metadata": {},
   "source": [
    "# Nomalizing the image for faster training of our ANN model:\n"
   ]
  },
  {
   "cell_type": "code",
   "execution_count": 7,
   "id": "9c1b0d36",
   "metadata": {},
   "outputs": [],
   "source": [
    "x_train=x_train/255.0\n",
    "x_test=x_test/255.0\n",
    "y_train = np.array(y_train)\n",
    "y_train=y_train.reshape(-1,1)\n",
    "y_test = np.array(y_test)\n",
    "y_test=y_test.reshape(-1,1)\n"
   ]
  },
  {
   "cell_type": "code",
   "execution_count": 16,
   "id": "13a611a6",
   "metadata": {},
   "outputs": [],
   "source": [
    "y_tt=y_test.flatten()\n",
    "x_tt=[]\n",
    "for i in range(0,19500):\n",
    "    x_tt.append(x_test[i].flatten())\n",
    "x_tt=np.array(x_tt)\n"
   ]
  },
  {
   "cell_type": "code",
   "execution_count": 8,
   "id": "b7ceff5c",
   "metadata": {},
   "outputs": [],
   "source": [
    "y_tr=y_train.flatten()\n",
    "x_tr=[]\n",
    "for i in range(0,58500):\n",
    "    x_tr.append(x_train[i].flatten())\n",
    "x_tr=np.array(x_tr)"
   ]
  },
  {
   "cell_type": "code",
   "execution_count": 15,
   "id": "8dfa844b",
   "metadata": {
    "scrolled": true
   },
   "outputs": [
    {
     "name": "stdout",
     "output_type": "stream",
     "text": [
      "(19500, 1)\n"
     ]
    }
   ],
   "source": [
    "\n",
    "print(np.shape(y_test))"
   ]
  },
  {
   "attachments": {},
   "cell_type": "markdown",
   "id": "232427a6",
   "metadata": {},
   "source": [
    "# Implementing the ANN model:"
   ]
  },
  {
   "cell_type": "code",
   "execution_count": 11,
   "id": "8903e9bb",
   "metadata": {},
   "outputs": [],
   "source": [
    "#Building and Training our ANN model\n",
    "import tensorflow as tf\n",
    "ANN=tf.keras.models.Sequential()\n",
    "ANN.add(tf.keras.layers.Dense(units=300,activation='relu'))\n",
    "ANN.add(tf.keras.layers.Dense(units=100,activation='relu'))\n",
    "ANN.add(tf.keras.layers.Dense(units=26,activation='softmax'))\n",
    "ANN.compile(optimizer='adam',loss='sparse_categorical_crossentropy',metrics=['accuracy'])"
   ]
  },
  {
   "cell_type": "code",
   "execution_count": 12,
   "id": "eac56b31",
   "metadata": {
    "scrolled": true
   },
   "outputs": [
    {
     "name": "stdout",
     "output_type": "stream",
     "text": [
      "Epoch 1/100\n",
      "1829/1829 [==============================] - 38s 20ms/step - loss: 2.5621 - accuracy: 0.2104\n",
      "Epoch 2/100\n",
      "1829/1829 [==============================] - 43s 23ms/step - loss: 1.5817 - accuracy: 0.4617\n",
      "Epoch 3/100\n",
      "1829/1829 [==============================] - 37s 20ms/step - loss: 1.2186 - accuracy: 0.5742\n",
      "Epoch 4/100\n",
      "1829/1829 [==============================] - 43s 24ms/step - loss: 1.0252 - accuracy: 0.6338\n",
      "Epoch 5/100\n",
      "1829/1829 [==============================] - 36s 20ms/step - loss: 0.9074 - accuracy: 0.6729\n",
      "Epoch 6/100\n",
      "1829/1829 [==============================] - 35s 19ms/step - loss: 0.8115 - accuracy: 0.7044\n",
      "Epoch 7/100\n",
      "1829/1829 [==============================] - 34s 19ms/step - loss: 0.7565 - accuracy: 0.7246\n",
      "Epoch 8/100\n",
      "1829/1829 [==============================] - 35s 19ms/step - loss: 0.7108 - accuracy: 0.7407\n",
      "Epoch 9/100\n",
      "1829/1829 [==============================] - 34s 19ms/step - loss: 0.6568 - accuracy: 0.7596\n",
      "Epoch 10/100\n",
      "1829/1829 [==============================] - 34s 19ms/step - loss: 0.6224 - accuracy: 0.7740\n",
      "Epoch 11/100\n",
      "1829/1829 [==============================] - 35s 19ms/step - loss: 0.5960 - accuracy: 0.7815\n",
      "Epoch 12/100\n",
      "1829/1829 [==============================] - 35s 19ms/step - loss: 0.5756 - accuracy: 0.7913\n",
      "Epoch 13/100\n",
      "1829/1829 [==============================] - 36s 19ms/step - loss: 0.5440 - accuracy: 0.8022\n",
      "Epoch 14/100\n",
      "1829/1829 [==============================] - 35s 19ms/step - loss: 0.5243 - accuracy: 0.8108\n",
      "Epoch 15/100\n",
      "1829/1829 [==============================] - 35s 19ms/step - loss: 0.5155 - accuracy: 0.8121\n",
      "Epoch 16/100\n",
      "1829/1829 [==============================] - 34s 19ms/step - loss: 0.4852 - accuracy: 0.8246\n",
      "Epoch 17/100\n",
      "1829/1829 [==============================] - 35s 19ms/step - loss: 0.4752 - accuracy: 0.8283\n",
      "Epoch 18/100\n",
      "1829/1829 [==============================] - 35s 19ms/step - loss: 0.4687 - accuracy: 0.8280\n",
      "Epoch 19/100\n",
      "1829/1829 [==============================] - 34s 19ms/step - loss: 0.4496 - accuracy: 0.8393\n",
      "Epoch 20/100\n",
      "1829/1829 [==============================] - 35s 19ms/step - loss: 0.4426 - accuracy: 0.8400\n",
      "Epoch 21/100\n",
      "1829/1829 [==============================] - 35s 19ms/step - loss: 0.4245 - accuracy: 0.8451\n",
      "Epoch 22/100\n",
      "1829/1829 [==============================] - 35s 19ms/step - loss: 0.4321 - accuracy: 0.8429\n",
      "Epoch 23/100\n",
      "1829/1829 [==============================] - 35s 19ms/step - loss: 0.4275 - accuracy: 0.8465\n",
      "Epoch 24/100\n",
      "1829/1829 [==============================] - 38s 21ms/step - loss: 0.4024 - accuracy: 0.8542\n",
      "Epoch 25/100\n",
      "1829/1829 [==============================] - 35s 19ms/step - loss: 0.4005 - accuracy: 0.8550\n",
      "Epoch 26/100\n",
      "1829/1829 [==============================] - 35s 19ms/step - loss: 0.3972 - accuracy: 0.8582\n",
      "Epoch 27/100\n",
      "1829/1829 [==============================] - 35s 19ms/step - loss: 0.3852 - accuracy: 0.8612\n",
      "Epoch 28/100\n",
      "1829/1829 [==============================] - 35s 19ms/step - loss: 0.3796 - accuracy: 0.8644\n",
      "Epoch 29/100\n",
      "1829/1829 [==============================] - 35s 19ms/step - loss: 0.3705 - accuracy: 0.8671\n",
      "Epoch 30/100\n",
      "1829/1829 [==============================] - 35s 19ms/step - loss: 0.3834 - accuracy: 0.8641\n",
      "Epoch 31/100\n",
      "1829/1829 [==============================] - 35s 19ms/step - loss: 0.3711 - accuracy: 0.8692\n",
      "Epoch 32/100\n",
      "1829/1829 [==============================] - 35s 19ms/step - loss: 0.3699 - accuracy: 0.8696\n",
      "Epoch 33/100\n",
      "1829/1829 [==============================] - 38s 21ms/step - loss: 0.3526 - accuracy: 0.8742\n",
      "Epoch 34/100\n",
      "1829/1829 [==============================] - 35s 19ms/step - loss: 0.3507 - accuracy: 0.8766\n",
      "Epoch 35/100\n",
      "1829/1829 [==============================] - 35s 19ms/step - loss: 0.3395 - accuracy: 0.8792\n",
      "Epoch 36/100\n",
      "1829/1829 [==============================] - 35s 19ms/step - loss: 0.3527 - accuracy: 0.8735\n",
      "Epoch 37/100\n",
      "1829/1829 [==============================] - 34s 19ms/step - loss: 0.3298 - accuracy: 0.8831\n",
      "Epoch 38/100\n",
      "1829/1829 [==============================] - 36s 19ms/step - loss: 0.3318 - accuracy: 0.8827\n",
      "Epoch 39/100\n",
      "1829/1829 [==============================] - 35s 19ms/step - loss: 0.3362 - accuracy: 0.8833\n",
      "Epoch 40/100\n",
      "1829/1829 [==============================] - 35s 19ms/step - loss: 0.3340 - accuracy: 0.8856\n",
      "Epoch 41/100\n",
      "1829/1829 [==============================] - 36s 20ms/step - loss: 0.3330 - accuracy: 0.8824\n",
      "Epoch 42/100\n",
      "1829/1829 [==============================] - 35s 19ms/step - loss: 0.3265 - accuracy: 0.8868\n",
      "Epoch 43/100\n",
      "1829/1829 [==============================] - 35s 19ms/step - loss: 0.2934 - accuracy: 0.8978\n",
      "Epoch 44/100\n",
      "1829/1829 [==============================] - 38s 21ms/step - loss: 0.3361 - accuracy: 0.8838\n",
      "Epoch 45/100\n",
      "1829/1829 [==============================] - 35s 19ms/step - loss: 0.3045 - accuracy: 0.8956\n",
      "Epoch 46/100\n",
      "1829/1829 [==============================] - 35s 19ms/step - loss: 0.3108 - accuracy: 0.8912\n",
      "Epoch 47/100\n",
      "1829/1829 [==============================] - 36s 20ms/step - loss: 0.2771 - accuracy: 0.9010\n",
      "Epoch 48/100\n",
      "1829/1829 [==============================] - 35s 19ms/step - loss: 0.3062 - accuracy: 0.8935\n",
      "Epoch 49/100\n",
      "1829/1829 [==============================] - 37s 20ms/step - loss: 0.2956 - accuracy: 0.8981\n",
      "Epoch 50/100\n",
      "1829/1829 [==============================] - 40s 22ms/step - loss: 0.2933 - accuracy: 0.8987\n",
      "Epoch 51/100\n",
      "1829/1829 [==============================] - 40s 22ms/step - loss: 0.3227 - accuracy: 0.8906\n",
      "Epoch 52/100\n",
      "1829/1829 [==============================] - 36s 20ms/step - loss: 0.2909 - accuracy: 0.9000\n",
      "Epoch 53/100\n",
      "1829/1829 [==============================] - 37s 20ms/step - loss: 0.2944 - accuracy: 0.8985\n",
      "Epoch 54/100\n",
      "1829/1829 [==============================] - 35s 19ms/step - loss: 0.2864 - accuracy: 0.9012\n",
      "Epoch 55/100\n",
      "1829/1829 [==============================] - 36s 20ms/step - loss: 0.2772 - accuracy: 0.9026\n",
      "Epoch 56/100\n",
      "1829/1829 [==============================] - 36s 20ms/step - loss: 0.2911 - accuracy: 0.9028\n",
      "Epoch 57/100\n",
      "1829/1829 [==============================] - 35s 19ms/step - loss: 0.2746 - accuracy: 0.9074\n",
      "Epoch 58/100\n",
      "1829/1829 [==============================] - 35s 19ms/step - loss: 0.2738 - accuracy: 0.9052\n",
      "Epoch 59/100\n",
      "1829/1829 [==============================] - 35s 19ms/step - loss: 0.2907 - accuracy: 0.9034\n",
      "Epoch 60/100\n",
      "1829/1829 [==============================] - 35s 19ms/step - loss: 0.2545 - accuracy: 0.9111\n",
      "Epoch 61/100\n",
      "1829/1829 [==============================] - 35s 19ms/step - loss: 0.2879 - accuracy: 0.9031\n",
      "Epoch 62/100\n",
      "1829/1829 [==============================] - 35s 19ms/step - loss: 0.2751 - accuracy: 0.9101\n",
      "Epoch 63/100\n",
      "1829/1829 [==============================] - 35s 19ms/step - loss: 0.2708 - accuracy: 0.9078\n",
      "Epoch 64/100\n",
      "1829/1829 [==============================] - 36s 19ms/step - loss: 0.2904 - accuracy: 0.9049\n",
      "Epoch 65/100\n",
      "1829/1829 [==============================] - 35s 19ms/step - loss: 0.2610 - accuracy: 0.9114\n",
      "Epoch 66/100\n",
      "1829/1829 [==============================] - 35s 19ms/step - loss: 0.2656 - accuracy: 0.9108\n",
      "Epoch 67/100\n",
      "1829/1829 [==============================] - 35s 19ms/step - loss: 0.2744 - accuracy: 0.9083\n",
      "Epoch 68/100\n",
      "1829/1829 [==============================] - 34s 19ms/step - loss: 0.2705 - accuracy: 0.9094\n",
      "Epoch 69/100\n",
      "1829/1829 [==============================] - 32s 17ms/step - loss: 0.2627 - accuracy: 0.9112\n",
      "Epoch 70/100\n",
      "1829/1829 [==============================] - 36s 20ms/step - loss: 0.2788 - accuracy: 0.9086\n",
      "Epoch 71/100\n",
      "1829/1829 [==============================] - 35s 19ms/step - loss: 0.2649 - accuracy: 0.9117\n",
      "Epoch 72/100\n",
      "1829/1829 [==============================] - 37s 20ms/step - loss: 0.2561 - accuracy: 0.9144\n",
      "Epoch 73/100\n",
      "1829/1829 [==============================] - 38s 21ms/step - loss: 0.2529 - accuracy: 0.9166\n",
      "Epoch 74/100\n",
      "1829/1829 [==============================] - 35s 19ms/step - loss: 0.2458 - accuracy: 0.9162\n",
      "Epoch 75/100\n",
      "1829/1829 [==============================] - 35s 19ms/step - loss: 0.2769 - accuracy: 0.9108\n",
      "Epoch 76/100\n",
      "1829/1829 [==============================] - 36s 19ms/step - loss: 0.2551 - accuracy: 0.9167\n",
      "Epoch 77/100\n",
      "1829/1829 [==============================] - 36s 20ms/step - loss: 0.2563 - accuracy: 0.9153\n",
      "Epoch 78/100\n",
      "1829/1829 [==============================] - 35s 19ms/step - loss: 0.2677 - accuracy: 0.9132\n",
      "Epoch 79/100\n",
      "1829/1829 [==============================] - 37s 20ms/step - loss: 0.2436 - accuracy: 0.9192\n",
      "Epoch 80/100\n",
      "1829/1829 [==============================] - 35s 19ms/step - loss: 0.2815 - accuracy: 0.9118\n",
      "Epoch 81/100\n",
      "1829/1829 [==============================] - 34s 18ms/step - loss: 0.2394 - accuracy: 0.9193\n",
      "Epoch 82/100\n",
      "1829/1829 [==============================] - 32s 18ms/step - loss: 0.2609 - accuracy: 0.9134\n",
      "Epoch 83/100\n",
      "1829/1829 [==============================] - 32s 18ms/step - loss: 0.2524 - accuracy: 0.9180\n",
      "Epoch 84/100\n",
      "1829/1829 [==============================] - 34s 19ms/step - loss: 0.2471 - accuracy: 0.9205\n",
      "Epoch 85/100\n",
      "1829/1829 [==============================] - 36s 19ms/step - loss: 0.2434 - accuracy: 0.9199\n",
      "Epoch 86/100\n",
      "1829/1829 [==============================] - 35s 19ms/step - loss: 0.2518 - accuracy: 0.9191\n",
      "Epoch 87/100\n",
      "1829/1829 [==============================] - 35s 19ms/step - loss: 0.2381 - accuracy: 0.9205\n",
      "Epoch 88/100\n",
      "1829/1829 [==============================] - 33s 18ms/step - loss: 0.2382 - accuracy: 0.9214\n",
      "Epoch 89/100\n",
      "1829/1829 [==============================] - 36s 19ms/step - loss: 0.2417 - accuracy: 0.9203\n",
      "Epoch 90/100\n",
      "1829/1829 [==============================] - 44s 24ms/step - loss: 0.2622 - accuracy: 0.9164\n",
      "Epoch 91/100\n",
      "1829/1829 [==============================] - 37s 20ms/step - loss: 0.2478 - accuracy: 0.9218\n",
      "Epoch 92/100\n",
      "1829/1829 [==============================] - 37s 20ms/step - loss: 0.2424 - accuracy: 0.9242\n",
      "Epoch 93/100\n",
      "1829/1829 [==============================] - 37s 20ms/step - loss: 0.2306 - accuracy: 0.9255\n",
      "Epoch 94/100\n",
      "1829/1829 [==============================] - 37s 20ms/step - loss: 0.2262 - accuracy: 0.9245\n",
      "Epoch 95/100\n",
      "1829/1829 [==============================] - 37s 20ms/step - loss: 0.2355 - accuracy: 0.9242\n",
      "Epoch 96/100\n",
      "1829/1829 [==============================] - 37s 20ms/step - loss: 0.2339 - accuracy: 0.9252\n",
      "Epoch 97/100\n",
      "1829/1829 [==============================] - 38s 21ms/step - loss: 0.2430 - accuracy: 0.9219\n",
      "Epoch 98/100\n",
      "1829/1829 [==============================] - 38s 21ms/step - loss: 0.2314 - accuracy: 0.9254\n",
      "Epoch 99/100\n",
      "1829/1829 [==============================] - 38s 21ms/step - loss: 0.2238 - accuracy: 0.9267\n",
      "Epoch 100/100\n",
      "1829/1829 [==============================] - 38s 21ms/step - loss: 0.2432 - accuracy: 0.9229\n"
     ]
    },
    {
     "data": {
      "text/plain": [
       "<keras.callbacks.History at 0x1d6b2f89f40>"
      ]
     },
     "execution_count": 12,
     "metadata": {},
     "output_type": "execute_result"
    }
   ],
   "source": [
    "ANN.fit(x_tr,y_tr,batch_size=32,epochs=100)"
   ]
  },
  {
   "cell_type": "code",
   "execution_count": 13,
   "id": "70d5857d",
   "metadata": {},
   "outputs": [],
   "source": [
    "import joblib\n",
    "ANN.save(\"ANN_MODEL.h5\")"
   ]
  },
  {
   "cell_type": "code",
   "execution_count": 18,
   "id": "c867a5d6",
   "metadata": {},
   "outputs": [
    {
     "name": "stdout",
     "output_type": "stream",
     "text": [
      "610/610 [==============================] - 3s 5ms/step\n"
     ]
    }
   ],
   "source": [
    "import joblib\n",
    "ANN_model=tf.keras.models.load_model(\"ANN_MODEL.h5\")\n",
    "y_pred = ANN.predict(x_tt)\n",
    "c=np.argmax(y_pred, axis=1)"
   ]
  },
  {
   "cell_type": "code",
   "execution_count": 19,
   "id": "f387f2b2",
   "metadata": {},
   "outputs": [],
   "source": [
    "np.save(\"labels.npy\", np.array(labels))"
   ]
  },
  {
   "attachments": {},
   "cell_type": "markdown",
   "id": "8606fdec",
   "metadata": {},
   "source": [
    "# Predicting the test set:"
   ]
  },
  {
   "cell_type": "code",
   "execution_count": 16,
   "id": "1f79e479",
   "metadata": {},
   "outputs": [
    {
     "name": "stdout",
     "output_type": "stream",
     "text": [
      "610/610 [==============================] - 1s 901us/step\n"
     ]
    }
   ],
   "source": [
    "y_pred = ANN.predict(x_test)\n",
    "c=np.argmax(y_pred, axis=1)"
   ]
  },
  {
   "cell_type": "code",
   "execution_count": 20,
   "id": "09fa0f5f",
   "metadata": {},
   "outputs": [
    {
     "name": "stdout",
     "output_type": "stream",
     "text": [
      "[[ 0  0]\n",
      " [ 0  0]\n",
      " [ 0  0]\n",
      " ...\n",
      " [25 25]\n",
      " [25 25]\n",
      " [25 25]]\n"
     ]
    }
   ],
   "source": [
    "print(np.concatenate((c.reshape(len(c),1), y_tt.reshape(len(y_tt),1)),1))"
   ]
  },
  {
   "cell_type": "code",
   "execution_count": 21,
   "id": "1014e3bd",
   "metadata": {
    "scrolled": true
   },
   "outputs": [
    {
     "name": "stdout",
     "output_type": "stream",
     "text": [
      "[[665   5   1   7  27   9   0   0   0   0   0   1   9   0  20   0   0   0\n",
      "    2   2   0   0   0   0   0   2]\n",
      " [  8 719   0   1  11   1   0   0   0   0   0   0   1   0   1   0   0   0\n",
      "    0   0   4   0   4   0   0   0]\n",
      " [  5   0 712  27   2   1   0   0   0   0   0   0   1   0   2   0   0   0\n",
      "    0   0   0   0   0   0   0   0]\n",
      " [  6   6   8 702   4   6   0   0   0   0   0   0   0   0  18   0   0   0\n",
      "    0   0   0   0   0   0   0   0]\n",
      " [ 10  21   0   5 696   3   0   0   0   0   0   0   0   0   5   0   0   0\n",
      "    2   0   5   0   3   0   0   0]\n",
      " [  5   3   0   7  22 701   5   0   0   0   0   0   0   0   1   0   0   0\n",
      "    0   1   1   0   1   1   2   0]\n",
      " [  0   0   0   0   0   0 742   3   0   3   0   0   0   0   0   0   0   0\n",
      "    0   0   1   0   0   0   1   0]\n",
      " [  0   0   0   0   0   0  23 713   2   1   0   0   0   0   0   8   3   0\n",
      "    0   0   0   0   0   0   0   0]\n",
      " [  0   0   0   0   0   0   0   0 673   3  38   0   1   0   0   1   0  14\n",
      "    0   0   2   6   4   8   0   0]\n",
      " [  0   0   0   0   0   0  14   2   0 733   0   0   0   0   0   1   0   0\n",
      "    0   0   0   0   0   0   0   0]\n",
      " [  0   1   0   0   0   0   1   0   2   0 714   0   0   0   0   0   0  23\n",
      "    0   0   0   1   1   3   0   4]\n",
      " [  2   0   0   0   3   0   0   0   0   0   0 730   2   0   1   0   0   0\n",
      "   11   1   0   0   0   0   0   0]\n",
      " [  0   0   0   0   1   0   0   0   0   0   0   1 694  53   1   0   0   0\n",
      "    0   0   0   0   0   0   0   0]\n",
      " [  0   0   0   0   0   0   0   0   0   0   0   0   2 744   4   0   0   0\n",
      "    0   0   0   0   0   0   0   0]\n",
      " [  2   0   1   5   1   0   0   0   0   0   2   5  52  13 667   2   0   0\n",
      "    0   0   0   0   0   0   0   0]\n",
      " [  0   0   0   0   0   0   2   0   0   1   0   0   0   0   0 747   0   0\n",
      "    0   0   0   0   0   0   0   0]\n",
      " [  0   0   0   0   0   0   0   0   0   1   0   0   0   0   0  41 696  12\n",
      "    0   0   0   0   0   0   0   0]\n",
      " [  0   0   0   0   0   0   0   0   1   0   5   0   0   0   0   0   0 698\n",
      "    5   0  36   1   3   1   0   0]\n",
      " [  1   0   0   0   3   0   0   0   0   4   1   1   0   4   0   0   0   2\n",
      "  718   8   6   1   0   1   0   0]\n",
      " [ 14   0   0   0   0   0   0   0   0   0   0   8  12   0   0   0   0   4\n",
      "    8 695   8   0   0   0   1   0]\n",
      " [  0   4   0   0   1   0   0   0   0   0   0   0   3   0   0   0   0   2\n",
      "    7  18 688  14  12   0   1   0]\n",
      " [  0   2   0   0   0   0   0   0   0   0   0   0   0   0   0   0   0   1\n",
      "    1   0  61 663  16   3   3   0]\n",
      " [  0   7   0   0   6   3   0   0   0   0   0   0   0   0   0   0   0   1\n",
      "    0   0  19  60 643  10   1   0]\n",
      " [  0   0   0   0   0   0   0   0   0   0   0   0   1   0   0   0   0   0\n",
      "    0   0   0  19   0 697  33   0]\n",
      " [  0   0   0   0   0   0   0   0   0   3   0   0   0   0   0   0   0   0\n",
      "    0   0   0   5   2  20 718   2]\n",
      " [  1   0   2   0   0   0   0   0   0   0   0   1   1   1   1   0   0   0\n",
      "    0   2   0   0   0  14  55 672]]\n"
     ]
    }
   ],
   "source": [
    "from sklearn.metrics import confusion_matrix, accuracy_score\n",
    "cm = confusion_matrix(y_tt,c)\n",
    "print(cm)"
   ]
  },
  {
   "cell_type": "code",
   "execution_count": null,
   "id": "f59d718d",
   "metadata": {},
   "outputs": [],
   "source": []
  },
  {
   "cell_type": "code",
   "execution_count": null,
   "id": "f2efd59f",
   "metadata": {},
   "outputs": [],
   "source": []
  },
  {
   "cell_type": "code",
   "execution_count": null,
   "id": "5ff65547",
   "metadata": {},
   "outputs": [],
   "source": []
  }
 ],
 "metadata": {
  "kernelspec": {
   "display_name": "Python 3 (ipykernel)",
   "language": "python",
   "name": "python3"
  },
  "language_info": {
   "codemirror_mode": {
    "name": "ipython",
    "version": 3
   },
   "file_extension": ".py",
   "mimetype": "text/x-python",
   "name": "python",
   "nbconvert_exporter": "python",
   "pygments_lexer": "ipython3",
   "version": "3.9.7"
  }
 },
 "nbformat": 4,
 "nbformat_minor": 5
}
